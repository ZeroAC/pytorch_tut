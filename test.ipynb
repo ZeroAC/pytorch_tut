{
 "cells": [
  {
   "cell_type": "code",
   "execution_count": 1,
   "id": "c47fec48",
   "metadata": {
    "ExecuteTime": {
     "end_time": "2022-03-21T04:24:23.798355Z",
     "start_time": "2022-03-21T04:24:23.791503Z"
    }
   },
   "outputs": [],
   "source": [
    "import numpy as np"
   ]
  },
  {
   "cell_type": "code",
   "execution_count": 2,
   "id": "cdff6df2",
   "metadata": {
    "ExecuteTime": {
     "end_time": "2022-03-21T04:24:27.771383Z",
     "start_time": "2022-03-21T04:24:27.732874Z"
    }
   },
   "outputs": [],
   "source": [
    "x = np.arange(-7, 7, 0.01)"
   ]
  },
  {
   "cell_type": "code",
   "execution_count": 3,
   "id": "ec02a87c",
   "metadata": {
    "ExecuteTime": {
     "end_time": "2022-03-21T04:24:32.436694Z",
     "start_time": "2022-03-21T04:24:32.425876Z"
    }
   },
   "outputs": [
    {
     "data": {
      "text/plain": [
       "array([-7.  , -6.99, -6.98, ...,  6.97,  6.98,  6.99])"
      ]
     },
     "execution_count": 3,
     "metadata": {},
     "output_type": "execute_result"
    }
   ],
   "source": [
    "x"
   ]
  }
 ],
 "metadata": {
  "kernelspec": {
   "display_name": "Python 3",
   "language": "python",
   "name": "python3"
  },
  "language_info": {
   "codemirror_mode": {
    "name": "ipython",
    "version": 3
   },
   "file_extension": ".py",
   "mimetype": "text/x-python",
   "name": "python",
   "nbconvert_exporter": "python",
   "pygments_lexer": "ipython3",
   "version": "3.6.13"
  },
  "toc": {
   "base_numbering": 1,
   "nav_menu": {},
   "number_sections": true,
   "sideBar": true,
   "skip_h1_title": false,
   "title_cell": "Table of Contents",
   "title_sidebar": "Contents",
   "toc_cell": false,
   "toc_position": {},
   "toc_section_display": true,
   "toc_window_display": false
  },
  "varInspector": {
   "cols": {
    "lenName": 16,
    "lenType": 16,
    "lenVar": 40
   },
   "kernels_config": {
    "python": {
     "delete_cmd_postfix": "",
     "delete_cmd_prefix": "del ",
     "library": "var_list.py",
     "varRefreshCmd": "print(var_dic_list())"
    },
    "r": {
     "delete_cmd_postfix": ") ",
     "delete_cmd_prefix": "rm(",
     "library": "var_list.r",
     "varRefreshCmd": "cat(var_dic_list()) "
    }
   },
   "types_to_exclude": [
    "module",
    "function",
    "builtin_function_or_method",
    "instance",
    "_Feature"
   ],
   "window_display": false
  }
 },
 "nbformat": 4,
 "nbformat_minor": 5
}
